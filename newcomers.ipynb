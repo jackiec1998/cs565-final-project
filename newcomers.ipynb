{
 "cells": [
  {
   "cell_type": "markdown",
   "metadata": {},
   "source": [
    "# CS 565 Analysis - StackOverflow Newcomers"
   ]
  },
  {
   "cell_type": "code",
   "execution_count": 4,
   "metadata": {},
   "outputs": [],
   "source": [
    "import pandas as pd\n",
    "import numpy as np\n",
    "import statsmodels.formula.api as smf\n",
    "from IPython.display import display\n",
    "import plotly.express as px\n",
    "\n",
    "nc = pd.read_csv('newcomers.csv')\n",
    "\n",
    "nc['FirstPostDate'] = pd.to_datetime(nc['FirstPostDate'])\n",
    "nc['AccountCreationDate'] = pd.to_datetime(nc['AccountCreationDate'])\n",
    "nc['Lurking'] = (nc['FirstPostDate'] - nc['AccountCreationDate']).dt.days\n",
    "\n",
    "nc['AvgUpVotes'] = nc['TotalUpVotes'] / nc['NumInitialPosts']\n",
    "nc['AvgDownVotes'] = nc['TotalDownVotes'] / nc['NumInitialPosts']\n",
    "nc['AvgOtherPositive'] = nc['TotalOtherPositive'] / nc['NumInitialPosts']\n",
    "nc['AvgOtherNegative'] = nc['TotalOtherNegative'] / nc['NumInitialPosts']\n",
    "\n",
    "nc['AvgNumEdits'] = nc['TotalSuggestedEdits'] / nc['NumInitialPosts']\n",
    "\n",
    "nc['Retained'] = (nc['NumFuturePosts'] > 0).astype(int)"
   ]
  },
  {
   "cell_type": "markdown",
   "metadata": {},
   "source": [
    "## Descriptive Statistics"
   ]
  },
  {
   "cell_type": "code",
   "execution_count": 5,
   "metadata": {},
   "outputs": [
    {
     "data": {
      "text/plain": [
       "UserId                          int64\n",
       "AccountCreationDate    datetime64[ns]\n",
       "FirstPostDate          datetime64[ns]\n",
       "NumInitialPosts                 int64\n",
       "NumQuestions                    int64\n",
       "AvgViewCount                  float64\n",
       "AvgNumAnswers                 float64\n",
       "AvgTopAnswererRep             float64\n",
       "AvgTopAnswererAge             float64\n",
       "TotalSuggestedEdits             int64\n",
       "AvgEditorRep                  float64\n",
       "AvgEditorAge                  float64\n",
       "TotalUpVotes                    int64\n",
       "TotalDownVotes                  int64\n",
       "TotalOtherPositive              int64\n",
       "TotalOtherNegative              int64\n",
       "NumFuturePosts                  int64\n",
       "Lurking                         int64\n",
       "AvgUpVotes                    float64\n",
       "AvgDownVotes                  float64\n",
       "AvgOtherPositive              float64\n",
       "AvgOtherNegative              float64\n",
       "AvgNumEdits                   float64\n",
       "Retained                        int32\n",
       "dtype: object"
      ]
     },
     "execution_count": 5,
     "metadata": {},
     "output_type": "execute_result"
    }
   ],
   "source": [
    "nc.dtypes"
   ]
  },
  {
   "cell_type": "code",
   "execution_count": 63,
   "metadata": {},
   "outputs": [
    {
     "data": {
      "application/vnd.plotly.v1+json": {
       "config": {
        "plotlyServerURL": "https://plot.ly"
       },
       "data": [
        {
         "alignmentgroup": "True",
         "hovertemplate": "variable=NumFuturePosts<br>index=%{x}<br>value=%{y}<extra></extra>",
         "legendgroup": "NumFuturePosts",
         "marker": {
          "color": "#636efa",
          "pattern": {
           "shape": ""
          }
         },
         "name": "NumFuturePosts",
         "offsetgroup": "NumFuturePosts",
         "orientation": "v",
         "showlegend": true,
         "textposition": "auto",
         "type": "bar",
         "x": [
          0,
          1,
          2,
          3,
          4,
          5,
          6,
          7,
          8,
          9,
          10,
          11,
          12,
          13,
          14,
          15,
          16,
          17,
          18,
          19,
          20,
          21,
          22,
          23,
          24,
          25,
          26,
          27,
          28,
          29,
          30,
          31,
          32,
          33,
          34,
          35,
          36,
          37,
          38,
          39,
          40,
          41,
          42,
          43,
          44,
          45,
          46,
          47,
          48,
          49,
          50,
          51,
          52,
          53,
          54,
          55,
          56,
          57,
          58,
          59,
          60,
          61,
          62,
          63,
          64,
          65,
          67,
          68,
          69,
          70,
          72,
          73,
          74,
          75,
          78,
          79,
          82,
          83,
          84,
          85,
          86,
          87,
          88,
          90,
          91,
          92,
          94,
          95,
          96,
          100,
          102,
          106,
          108,
          109,
          110,
          111,
          112,
          114,
          115,
          116,
          117,
          122,
          123,
          127,
          128,
          130,
          132,
          134,
          137,
          141,
          142,
          153,
          154,
          161,
          163,
          164,
          170,
          171,
          184,
          187,
          191,
          230,
          244,
          252,
          256,
          348,
          386,
          441,
          454,
          472,
          659,
          739,
          785
         ],
         "xaxis": "x",
         "y": [
          0.8513408371803517,
          0.07294062047939323,
          0.029064439718519287,
          0.01454086484430382,
          0.008518191930194628,
          0.005486683841370288,
          0.0035444438681121082,
          0.0026107854833411137,
          0.0020286898236999383,
          0.0013543809902542203,
          0.001095031438928944,
          0.00095671167822213,
          0.0007953386240641804,
          0.000685835480171286,
          0.0005417523961016881,
          0.0005129357792877685,
          0.000409195958757658,
          0.00027663952141362795,
          0.00023629625787414054,
          0.00028240284477641187,
          0.0001844263476090853,
          0.00017289970088351747,
          0.00017289970088351747,
          0.0001095031438928944,
          0.00008644985044175873,
          0.00016713637752073355,
          0.0001095031438928944,
          0.0000749232037161909,
          0.000046106586902271325,
          0.00011526646725567831,
          0.00009221317380454265,
          0.00008644985044175873,
          0.00008068652707897482,
          0.000057633233627839156,
          0.000028816616813919578,
          0.000034579940176703494,
          0.000046106586902271325,
          0.000028816616813919578,
          0.000034579940176703494,
          0.00005186991026505524,
          0.000028816616813919578,
          0.000028816616813919578,
          0.000034579940176703494,
          0.000023053293451135663,
          0.000028816616813919578,
          0.000017289970088351747,
          0.000034579940176703494,
          0.000023053293451135663,
          0.000028816616813919578,
          0.000011526646725567831,
          0.000023053293451135663,
          0.000017289970088351747,
          0.000011526646725567831,
          0.000011526646725567831,
          0.000023053293451135663,
          0.000017289970088351747,
          0.000028816616813919578,
          0.000017289970088351747,
          0.000011526646725567831,
          0.000011526646725567831,
          0.000005763323362783916,
          0.000011526646725567831,
          0.000011526646725567831,
          0.000017289970088351747,
          0.000011526646725567831,
          0.000034579940176703494,
          0.000011526646725567831,
          0.000005763323362783916,
          0.000017289970088351747,
          0.000011526646725567831,
          0.000005763323362783916,
          0.000005763323362783916,
          0.000005763323362783916,
          0.000005763323362783916,
          0.000011526646725567831,
          0.000005763323362783916,
          0.000005763323362783916,
          0.000005763323362783916,
          0.000005763323362783916,
          0.000005763323362783916,
          0.000005763323362783916,
          0.000005763323362783916,
          0.000005763323362783916,
          0.000005763323362783916,
          0.000017289970088351747,
          0.000005763323362783916,
          0.000011526646725567831,
          0.000005763323362783916,
          0.000005763323362783916,
          0.000011526646725567831,
          0.000005763323362783916,
          0.000017289970088351747,
          0.000005763323362783916,
          0.000005763323362783916,
          0.000005763323362783916,
          0.000011526646725567831,
          0.000005763323362783916,
          0.000005763323362783916,
          0.000005763323362783916,
          0.000005763323362783916,
          0.000011526646725567831,
          0.000005763323362783916,
          0.000005763323362783916,
          0.000011526646725567831,
          0.000005763323362783916,
          0.000005763323362783916,
          0.000005763323362783916,
          0.000005763323362783916,
          0.000005763323362783916,
          0.000005763323362783916,
          0.000005763323362783916,
          0.000011526646725567831,
          0.000005763323362783916,
          0.000005763323362783916,
          0.000005763323362783916,
          0.000005763323362783916,
          0.000005763323362783916,
          0.000005763323362783916,
          0.000005763323362783916,
          0.000005763323362783916,
          0.000005763323362783916,
          0.000005763323362783916,
          0.000005763323362783916,
          0.000005763323362783916,
          0.000005763323362783916,
          0.000005763323362783916,
          0.000005763323362783916,
          0.000005763323362783916,
          0.000005763323362783916,
          0.000005763323362783916,
          0.000005763323362783916,
          0.000005763323362783916,
          0.000005763323362783916
         ],
         "yaxis": "y"
        }
       ],
       "layout": {
        "bargap": 0.05,
        "barmode": "relative",
        "font": {
         "family": "Calibri",
         "size": 18
        },
        "height": 600,
        "legend": {
         "title": {
          "text": "variable"
         },
         "tracegroupgap": 0
        },
        "margin": {
         "t": 60
        },
        "showlegend": false,
        "template": {
         "data": {
          "bar": [
           {
            "error_x": {
             "color": "#2a3f5f"
            },
            "error_y": {
             "color": "#2a3f5f"
            },
            "marker": {
             "line": {
              "color": "#E5ECF6",
              "width": 0.5
             },
             "pattern": {
              "fillmode": "overlay",
              "size": 10,
              "solidity": 0.2
             }
            },
            "type": "bar"
           }
          ],
          "barpolar": [
           {
            "marker": {
             "line": {
              "color": "#E5ECF6",
              "width": 0.5
             },
             "pattern": {
              "fillmode": "overlay",
              "size": 10,
              "solidity": 0.2
             }
            },
            "type": "barpolar"
           }
          ],
          "carpet": [
           {
            "aaxis": {
             "endlinecolor": "#2a3f5f",
             "gridcolor": "white",
             "linecolor": "white",
             "minorgridcolor": "white",
             "startlinecolor": "#2a3f5f"
            },
            "baxis": {
             "endlinecolor": "#2a3f5f",
             "gridcolor": "white",
             "linecolor": "white",
             "minorgridcolor": "white",
             "startlinecolor": "#2a3f5f"
            },
            "type": "carpet"
           }
          ],
          "choropleth": [
           {
            "colorbar": {
             "outlinewidth": 0,
             "ticks": ""
            },
            "type": "choropleth"
           }
          ],
          "contour": [
           {
            "colorbar": {
             "outlinewidth": 0,
             "ticks": ""
            },
            "colorscale": [
             [
              0,
              "#0d0887"
             ],
             [
              0.1111111111111111,
              "#46039f"
             ],
             [
              0.2222222222222222,
              "#7201a8"
             ],
             [
              0.3333333333333333,
              "#9c179e"
             ],
             [
              0.4444444444444444,
              "#bd3786"
             ],
             [
              0.5555555555555556,
              "#d8576b"
             ],
             [
              0.6666666666666666,
              "#ed7953"
             ],
             [
              0.7777777777777778,
              "#fb9f3a"
             ],
             [
              0.8888888888888888,
              "#fdca26"
             ],
             [
              1,
              "#f0f921"
             ]
            ],
            "type": "contour"
           }
          ],
          "contourcarpet": [
           {
            "colorbar": {
             "outlinewidth": 0,
             "ticks": ""
            },
            "type": "contourcarpet"
           }
          ],
          "heatmap": [
           {
            "colorbar": {
             "outlinewidth": 0,
             "ticks": ""
            },
            "colorscale": [
             [
              0,
              "#0d0887"
             ],
             [
              0.1111111111111111,
              "#46039f"
             ],
             [
              0.2222222222222222,
              "#7201a8"
             ],
             [
              0.3333333333333333,
              "#9c179e"
             ],
             [
              0.4444444444444444,
              "#bd3786"
             ],
             [
              0.5555555555555556,
              "#d8576b"
             ],
             [
              0.6666666666666666,
              "#ed7953"
             ],
             [
              0.7777777777777778,
              "#fb9f3a"
             ],
             [
              0.8888888888888888,
              "#fdca26"
             ],
             [
              1,
              "#f0f921"
             ]
            ],
            "type": "heatmap"
           }
          ],
          "heatmapgl": [
           {
            "colorbar": {
             "outlinewidth": 0,
             "ticks": ""
            },
            "colorscale": [
             [
              0,
              "#0d0887"
             ],
             [
              0.1111111111111111,
              "#46039f"
             ],
             [
              0.2222222222222222,
              "#7201a8"
             ],
             [
              0.3333333333333333,
              "#9c179e"
             ],
             [
              0.4444444444444444,
              "#bd3786"
             ],
             [
              0.5555555555555556,
              "#d8576b"
             ],
             [
              0.6666666666666666,
              "#ed7953"
             ],
             [
              0.7777777777777778,
              "#fb9f3a"
             ],
             [
              0.8888888888888888,
              "#fdca26"
             ],
             [
              1,
              "#f0f921"
             ]
            ],
            "type": "heatmapgl"
           }
          ],
          "histogram": [
           {
            "marker": {
             "pattern": {
              "fillmode": "overlay",
              "size": 10,
              "solidity": 0.2
             }
            },
            "type": "histogram"
           }
          ],
          "histogram2d": [
           {
            "colorbar": {
             "outlinewidth": 0,
             "ticks": ""
            },
            "colorscale": [
             [
              0,
              "#0d0887"
             ],
             [
              0.1111111111111111,
              "#46039f"
             ],
             [
              0.2222222222222222,
              "#7201a8"
             ],
             [
              0.3333333333333333,
              "#9c179e"
             ],
             [
              0.4444444444444444,
              "#bd3786"
             ],
             [
              0.5555555555555556,
              "#d8576b"
             ],
             [
              0.6666666666666666,
              "#ed7953"
             ],
             [
              0.7777777777777778,
              "#fb9f3a"
             ],
             [
              0.8888888888888888,
              "#fdca26"
             ],
             [
              1,
              "#f0f921"
             ]
            ],
            "type": "histogram2d"
           }
          ],
          "histogram2dcontour": [
           {
            "colorbar": {
             "outlinewidth": 0,
             "ticks": ""
            },
            "colorscale": [
             [
              0,
              "#0d0887"
             ],
             [
              0.1111111111111111,
              "#46039f"
             ],
             [
              0.2222222222222222,
              "#7201a8"
             ],
             [
              0.3333333333333333,
              "#9c179e"
             ],
             [
              0.4444444444444444,
              "#bd3786"
             ],
             [
              0.5555555555555556,
              "#d8576b"
             ],
             [
              0.6666666666666666,
              "#ed7953"
             ],
             [
              0.7777777777777778,
              "#fb9f3a"
             ],
             [
              0.8888888888888888,
              "#fdca26"
             ],
             [
              1,
              "#f0f921"
             ]
            ],
            "type": "histogram2dcontour"
           }
          ],
          "mesh3d": [
           {
            "colorbar": {
             "outlinewidth": 0,
             "ticks": ""
            },
            "type": "mesh3d"
           }
          ],
          "parcoords": [
           {
            "line": {
             "colorbar": {
              "outlinewidth": 0,
              "ticks": ""
             }
            },
            "type": "parcoords"
           }
          ],
          "pie": [
           {
            "automargin": true,
            "type": "pie"
           }
          ],
          "scatter": [
           {
            "marker": {
             "colorbar": {
              "outlinewidth": 0,
              "ticks": ""
             }
            },
            "type": "scatter"
           }
          ],
          "scatter3d": [
           {
            "line": {
             "colorbar": {
              "outlinewidth": 0,
              "ticks": ""
             }
            },
            "marker": {
             "colorbar": {
              "outlinewidth": 0,
              "ticks": ""
             }
            },
            "type": "scatter3d"
           }
          ],
          "scattercarpet": [
           {
            "marker": {
             "colorbar": {
              "outlinewidth": 0,
              "ticks": ""
             }
            },
            "type": "scattercarpet"
           }
          ],
          "scattergeo": [
           {
            "marker": {
             "colorbar": {
              "outlinewidth": 0,
              "ticks": ""
             }
            },
            "type": "scattergeo"
           }
          ],
          "scattergl": [
           {
            "marker": {
             "colorbar": {
              "outlinewidth": 0,
              "ticks": ""
             }
            },
            "type": "scattergl"
           }
          ],
          "scattermapbox": [
           {
            "marker": {
             "colorbar": {
              "outlinewidth": 0,
              "ticks": ""
             }
            },
            "type": "scattermapbox"
           }
          ],
          "scatterpolar": [
           {
            "marker": {
             "colorbar": {
              "outlinewidth": 0,
              "ticks": ""
             }
            },
            "type": "scatterpolar"
           }
          ],
          "scatterpolargl": [
           {
            "marker": {
             "colorbar": {
              "outlinewidth": 0,
              "ticks": ""
             }
            },
            "type": "scatterpolargl"
           }
          ],
          "scatterternary": [
           {
            "marker": {
             "colorbar": {
              "outlinewidth": 0,
              "ticks": ""
             }
            },
            "type": "scatterternary"
           }
          ],
          "surface": [
           {
            "colorbar": {
             "outlinewidth": 0,
             "ticks": ""
            },
            "colorscale": [
             [
              0,
              "#0d0887"
             ],
             [
              0.1111111111111111,
              "#46039f"
             ],
             [
              0.2222222222222222,
              "#7201a8"
             ],
             [
              0.3333333333333333,
              "#9c179e"
             ],
             [
              0.4444444444444444,
              "#bd3786"
             ],
             [
              0.5555555555555556,
              "#d8576b"
             ],
             [
              0.6666666666666666,
              "#ed7953"
             ],
             [
              0.7777777777777778,
              "#fb9f3a"
             ],
             [
              0.8888888888888888,
              "#fdca26"
             ],
             [
              1,
              "#f0f921"
             ]
            ],
            "type": "surface"
           }
          ],
          "table": [
           {
            "cells": {
             "fill": {
              "color": "#EBF0F8"
             },
             "line": {
              "color": "white"
             }
            },
            "header": {
             "fill": {
              "color": "#C8D4E3"
             },
             "line": {
              "color": "white"
             }
            },
            "type": "table"
           }
          ]
         },
         "layout": {
          "annotationdefaults": {
           "arrowcolor": "#2a3f5f",
           "arrowhead": 0,
           "arrowwidth": 1
          },
          "autotypenumbers": "strict",
          "coloraxis": {
           "colorbar": {
            "outlinewidth": 0,
            "ticks": ""
           }
          },
          "colorscale": {
           "diverging": [
            [
             0,
             "#8e0152"
            ],
            [
             0.1,
             "#c51b7d"
            ],
            [
             0.2,
             "#de77ae"
            ],
            [
             0.3,
             "#f1b6da"
            ],
            [
             0.4,
             "#fde0ef"
            ],
            [
             0.5,
             "#f7f7f7"
            ],
            [
             0.6,
             "#e6f5d0"
            ],
            [
             0.7,
             "#b8e186"
            ],
            [
             0.8,
             "#7fbc41"
            ],
            [
             0.9,
             "#4d9221"
            ],
            [
             1,
             "#276419"
            ]
           ],
           "sequential": [
            [
             0,
             "#0d0887"
            ],
            [
             0.1111111111111111,
             "#46039f"
            ],
            [
             0.2222222222222222,
             "#7201a8"
            ],
            [
             0.3333333333333333,
             "#9c179e"
            ],
            [
             0.4444444444444444,
             "#bd3786"
            ],
            [
             0.5555555555555556,
             "#d8576b"
            ],
            [
             0.6666666666666666,
             "#ed7953"
            ],
            [
             0.7777777777777778,
             "#fb9f3a"
            ],
            [
             0.8888888888888888,
             "#fdca26"
            ],
            [
             1,
             "#f0f921"
            ]
           ],
           "sequentialminus": [
            [
             0,
             "#0d0887"
            ],
            [
             0.1111111111111111,
             "#46039f"
            ],
            [
             0.2222222222222222,
             "#7201a8"
            ],
            [
             0.3333333333333333,
             "#9c179e"
            ],
            [
             0.4444444444444444,
             "#bd3786"
            ],
            [
             0.5555555555555556,
             "#d8576b"
            ],
            [
             0.6666666666666666,
             "#ed7953"
            ],
            [
             0.7777777777777778,
             "#fb9f3a"
            ],
            [
             0.8888888888888888,
             "#fdca26"
            ],
            [
             1,
             "#f0f921"
            ]
           ]
          },
          "colorway": [
           "#636efa",
           "#EF553B",
           "#00cc96",
           "#ab63fa",
           "#FFA15A",
           "#19d3f3",
           "#FF6692",
           "#B6E880",
           "#FF97FF",
           "#FECB52"
          ],
          "font": {
           "color": "#2a3f5f"
          },
          "geo": {
           "bgcolor": "white",
           "lakecolor": "white",
           "landcolor": "#E5ECF6",
           "showlakes": true,
           "showland": true,
           "subunitcolor": "white"
          },
          "hoverlabel": {
           "align": "left"
          },
          "hovermode": "closest",
          "mapbox": {
           "style": "light"
          },
          "paper_bgcolor": "white",
          "plot_bgcolor": "#E5ECF6",
          "polar": {
           "angularaxis": {
            "gridcolor": "white",
            "linecolor": "white",
            "ticks": ""
           },
           "bgcolor": "#E5ECF6",
           "radialaxis": {
            "gridcolor": "white",
            "linecolor": "white",
            "ticks": ""
           }
          },
          "scene": {
           "xaxis": {
            "backgroundcolor": "#E5ECF6",
            "gridcolor": "white",
            "gridwidth": 2,
            "linecolor": "white",
            "showbackground": true,
            "ticks": "",
            "zerolinecolor": "white"
           },
           "yaxis": {
            "backgroundcolor": "#E5ECF6",
            "gridcolor": "white",
            "gridwidth": 2,
            "linecolor": "white",
            "showbackground": true,
            "ticks": "",
            "zerolinecolor": "white"
           },
           "zaxis": {
            "backgroundcolor": "#E5ECF6",
            "gridcolor": "white",
            "gridwidth": 2,
            "linecolor": "white",
            "showbackground": true,
            "ticks": "",
            "zerolinecolor": "white"
           }
          },
          "shapedefaults": {
           "line": {
            "color": "#2a3f5f"
           }
          },
          "ternary": {
           "aaxis": {
            "gridcolor": "white",
            "linecolor": "white",
            "ticks": ""
           },
           "baxis": {
            "gridcolor": "white",
            "linecolor": "white",
            "ticks": ""
           },
           "bgcolor": "#E5ECF6",
           "caxis": {
            "gridcolor": "white",
            "linecolor": "white",
            "ticks": ""
           }
          },
          "title": {
           "x": 0.05
          },
          "xaxis": {
           "automargin": true,
           "gridcolor": "white",
           "linecolor": "white",
           "ticks": "",
           "title": {
            "standoff": 15
           },
           "zerolinecolor": "white",
           "zerolinewidth": 2
          },
          "yaxis": {
           "automargin": true,
           "gridcolor": "white",
           "linecolor": "white",
           "ticks": "",
           "title": {
            "standoff": 15
           },
           "zerolinecolor": "white",
           "zerolinewidth": 2
          }
         }
        },
        "width": 800,
        "xaxis": {
         "anchor": "y",
         "domain": [
          0,
          1
         ],
         "range": [
          -0.5,
          5.5
         ],
         "showgrid": false,
         "title": {
          "text": "#Posts"
         }
        },
        "yaxis": {
         "anchor": "x",
         "domain": [
          0,
          1
         ],
         "showgrid": false,
         "title": {
          "text": "%Users"
         }
        }
       }
      }
     },
     "metadata": {},
     "output_type": "display_data"
    }
   ],
   "source": [
    "'''\n",
    "    Distribution of number of future posts made by StackOverflow newcomers.\n",
    "'''\n",
    "X_MAX_RANGE = 5\n",
    "\n",
    "fig = px.bar(nc['NumFuturePosts'].value_counts().sort_index() / len(nc.index))\n",
    "\n",
    "fig.update_xaxes(\n",
    "    range=[-0.5, X_MAX_RANGE + 0.5],\n",
    "    showgrid=False\n",
    ")\n",
    "\n",
    "fig.update_yaxes(\n",
    "    showgrid=False\n",
    ")\n",
    "\n",
    "fig.update_layout(\n",
    "    bargap=0.05,\n",
    "    showlegend=False,\n",
    "    xaxis_title = '#Posts',\n",
    "    yaxis_title = '%Users',\n",
    "    font_family='Calibri',\n",
    "    font_size=18,\n",
    "    height=600,\n",
    "    width=800\n",
    ")\n",
    "\n",
    "fig.show()"
   ]
  },
  {
   "cell_type": "code",
   "execution_count": 62,
   "metadata": {},
   "outputs": [
    {
     "data": {
      "application/vnd.plotly.v1+json": {
       "config": {
        "plotlyServerURL": "https://plot.ly"
       },
       "data": [
        {
         "alignmentgroup": "True",
         "hovertemplate": "index=%{x}<br>value=%{y}<extra></extra>",
         "legendgroup": "0 Posts",
         "marker": {
          "color": "#636efa",
          "pattern": {
           "shape": ""
          }
         },
         "name": "0 Posts",
         "offsetgroup": "0 Posts",
         "orientation": "v",
         "showlegend": true,
         "textposition": "auto",
         "type": "bar",
         "x": [
          "0 Posts"
         ],
         "xaxis": "x",
         "y": [
          0.8513408371803517
         ],
         "yaxis": "y"
        },
        {
         "alignmentgroup": "True",
         "hovertemplate": "index=%{x}<br>value=%{y}<extra></extra>",
         "legendgroup": "1-5 Posts",
         "marker": {
          "color": "#EF553B",
          "pattern": {
           "shape": ""
          }
         },
         "name": "1-5 Posts",
         "offsetgroup": "1-5 Posts",
         "orientation": "v",
         "showlegend": true,
         "textposition": "auto",
         "type": "bar",
         "x": [
          "1-5 Posts"
         ],
         "xaxis": "x",
         "y": [
          0.12506411697241096
         ],
         "yaxis": "y"
        },
        {
         "alignmentgroup": "True",
         "hovertemplate": "index=%{x}<br>value=%{y}<extra></extra>",
         "legendgroup": "+5 Posts",
         "marker": {
          "color": "#00cc96",
          "pattern": {
           "shape": ""
          }
         },
         "name": "+5 Posts",
         "offsetgroup": "+5 Posts",
         "orientation": "v",
         "showlegend": true,
         "textposition": "auto",
         "type": "bar",
         "x": [
          "+5 Posts"
         ],
         "xaxis": "x",
         "y": [
          0.02359504584723735
         ],
         "yaxis": "y"
        }
       ],
       "layout": {
        "bargap": 0.05,
        "barmode": "relative",
        "font": {
         "family": "Calibri",
         "size": 18
        },
        "height": 600,
        "legend": {
         "title": {
          "text": "index"
         },
         "tracegroupgap": 0
        },
        "margin": {
         "t": 60
        },
        "showlegend": false,
        "template": {
         "data": {
          "bar": [
           {
            "error_x": {
             "color": "#2a3f5f"
            },
            "error_y": {
             "color": "#2a3f5f"
            },
            "marker": {
             "line": {
              "color": "#E5ECF6",
              "width": 0.5
             },
             "pattern": {
              "fillmode": "overlay",
              "size": 10,
              "solidity": 0.2
             }
            },
            "type": "bar"
           }
          ],
          "barpolar": [
           {
            "marker": {
             "line": {
              "color": "#E5ECF6",
              "width": 0.5
             },
             "pattern": {
              "fillmode": "overlay",
              "size": 10,
              "solidity": 0.2
             }
            },
            "type": "barpolar"
           }
          ],
          "carpet": [
           {
            "aaxis": {
             "endlinecolor": "#2a3f5f",
             "gridcolor": "white",
             "linecolor": "white",
             "minorgridcolor": "white",
             "startlinecolor": "#2a3f5f"
            },
            "baxis": {
             "endlinecolor": "#2a3f5f",
             "gridcolor": "white",
             "linecolor": "white",
             "minorgridcolor": "white",
             "startlinecolor": "#2a3f5f"
            },
            "type": "carpet"
           }
          ],
          "choropleth": [
           {
            "colorbar": {
             "outlinewidth": 0,
             "ticks": ""
            },
            "type": "choropleth"
           }
          ],
          "contour": [
           {
            "colorbar": {
             "outlinewidth": 0,
             "ticks": ""
            },
            "colorscale": [
             [
              0,
              "#0d0887"
             ],
             [
              0.1111111111111111,
              "#46039f"
             ],
             [
              0.2222222222222222,
              "#7201a8"
             ],
             [
              0.3333333333333333,
              "#9c179e"
             ],
             [
              0.4444444444444444,
              "#bd3786"
             ],
             [
              0.5555555555555556,
              "#d8576b"
             ],
             [
              0.6666666666666666,
              "#ed7953"
             ],
             [
              0.7777777777777778,
              "#fb9f3a"
             ],
             [
              0.8888888888888888,
              "#fdca26"
             ],
             [
              1,
              "#f0f921"
             ]
            ],
            "type": "contour"
           }
          ],
          "contourcarpet": [
           {
            "colorbar": {
             "outlinewidth": 0,
             "ticks": ""
            },
            "type": "contourcarpet"
           }
          ],
          "heatmap": [
           {
            "colorbar": {
             "outlinewidth": 0,
             "ticks": ""
            },
            "colorscale": [
             [
              0,
              "#0d0887"
             ],
             [
              0.1111111111111111,
              "#46039f"
             ],
             [
              0.2222222222222222,
              "#7201a8"
             ],
             [
              0.3333333333333333,
              "#9c179e"
             ],
             [
              0.4444444444444444,
              "#bd3786"
             ],
             [
              0.5555555555555556,
              "#d8576b"
             ],
             [
              0.6666666666666666,
              "#ed7953"
             ],
             [
              0.7777777777777778,
              "#fb9f3a"
             ],
             [
              0.8888888888888888,
              "#fdca26"
             ],
             [
              1,
              "#f0f921"
             ]
            ],
            "type": "heatmap"
           }
          ],
          "heatmapgl": [
           {
            "colorbar": {
             "outlinewidth": 0,
             "ticks": ""
            },
            "colorscale": [
             [
              0,
              "#0d0887"
             ],
             [
              0.1111111111111111,
              "#46039f"
             ],
             [
              0.2222222222222222,
              "#7201a8"
             ],
             [
              0.3333333333333333,
              "#9c179e"
             ],
             [
              0.4444444444444444,
              "#bd3786"
             ],
             [
              0.5555555555555556,
              "#d8576b"
             ],
             [
              0.6666666666666666,
              "#ed7953"
             ],
             [
              0.7777777777777778,
              "#fb9f3a"
             ],
             [
              0.8888888888888888,
              "#fdca26"
             ],
             [
              1,
              "#f0f921"
             ]
            ],
            "type": "heatmapgl"
           }
          ],
          "histogram": [
           {
            "marker": {
             "pattern": {
              "fillmode": "overlay",
              "size": 10,
              "solidity": 0.2
             }
            },
            "type": "histogram"
           }
          ],
          "histogram2d": [
           {
            "colorbar": {
             "outlinewidth": 0,
             "ticks": ""
            },
            "colorscale": [
             [
              0,
              "#0d0887"
             ],
             [
              0.1111111111111111,
              "#46039f"
             ],
             [
              0.2222222222222222,
              "#7201a8"
             ],
             [
              0.3333333333333333,
              "#9c179e"
             ],
             [
              0.4444444444444444,
              "#bd3786"
             ],
             [
              0.5555555555555556,
              "#d8576b"
             ],
             [
              0.6666666666666666,
              "#ed7953"
             ],
             [
              0.7777777777777778,
              "#fb9f3a"
             ],
             [
              0.8888888888888888,
              "#fdca26"
             ],
             [
              1,
              "#f0f921"
             ]
            ],
            "type": "histogram2d"
           }
          ],
          "histogram2dcontour": [
           {
            "colorbar": {
             "outlinewidth": 0,
             "ticks": ""
            },
            "colorscale": [
             [
              0,
              "#0d0887"
             ],
             [
              0.1111111111111111,
              "#46039f"
             ],
             [
              0.2222222222222222,
              "#7201a8"
             ],
             [
              0.3333333333333333,
              "#9c179e"
             ],
             [
              0.4444444444444444,
              "#bd3786"
             ],
             [
              0.5555555555555556,
              "#d8576b"
             ],
             [
              0.6666666666666666,
              "#ed7953"
             ],
             [
              0.7777777777777778,
              "#fb9f3a"
             ],
             [
              0.8888888888888888,
              "#fdca26"
             ],
             [
              1,
              "#f0f921"
             ]
            ],
            "type": "histogram2dcontour"
           }
          ],
          "mesh3d": [
           {
            "colorbar": {
             "outlinewidth": 0,
             "ticks": ""
            },
            "type": "mesh3d"
           }
          ],
          "parcoords": [
           {
            "line": {
             "colorbar": {
              "outlinewidth": 0,
              "ticks": ""
             }
            },
            "type": "parcoords"
           }
          ],
          "pie": [
           {
            "automargin": true,
            "type": "pie"
           }
          ],
          "scatter": [
           {
            "marker": {
             "colorbar": {
              "outlinewidth": 0,
              "ticks": ""
             }
            },
            "type": "scatter"
           }
          ],
          "scatter3d": [
           {
            "line": {
             "colorbar": {
              "outlinewidth": 0,
              "ticks": ""
             }
            },
            "marker": {
             "colorbar": {
              "outlinewidth": 0,
              "ticks": ""
             }
            },
            "type": "scatter3d"
           }
          ],
          "scattercarpet": [
           {
            "marker": {
             "colorbar": {
              "outlinewidth": 0,
              "ticks": ""
             }
            },
            "type": "scattercarpet"
           }
          ],
          "scattergeo": [
           {
            "marker": {
             "colorbar": {
              "outlinewidth": 0,
              "ticks": ""
             }
            },
            "type": "scattergeo"
           }
          ],
          "scattergl": [
           {
            "marker": {
             "colorbar": {
              "outlinewidth": 0,
              "ticks": ""
             }
            },
            "type": "scattergl"
           }
          ],
          "scattermapbox": [
           {
            "marker": {
             "colorbar": {
              "outlinewidth": 0,
              "ticks": ""
             }
            },
            "type": "scattermapbox"
           }
          ],
          "scatterpolar": [
           {
            "marker": {
             "colorbar": {
              "outlinewidth": 0,
              "ticks": ""
             }
            },
            "type": "scatterpolar"
           }
          ],
          "scatterpolargl": [
           {
            "marker": {
             "colorbar": {
              "outlinewidth": 0,
              "ticks": ""
             }
            },
            "type": "scatterpolargl"
           }
          ],
          "scatterternary": [
           {
            "marker": {
             "colorbar": {
              "outlinewidth": 0,
              "ticks": ""
             }
            },
            "type": "scatterternary"
           }
          ],
          "surface": [
           {
            "colorbar": {
             "outlinewidth": 0,
             "ticks": ""
            },
            "colorscale": [
             [
              0,
              "#0d0887"
             ],
             [
              0.1111111111111111,
              "#46039f"
             ],
             [
              0.2222222222222222,
              "#7201a8"
             ],
             [
              0.3333333333333333,
              "#9c179e"
             ],
             [
              0.4444444444444444,
              "#bd3786"
             ],
             [
              0.5555555555555556,
              "#d8576b"
             ],
             [
              0.6666666666666666,
              "#ed7953"
             ],
             [
              0.7777777777777778,
              "#fb9f3a"
             ],
             [
              0.8888888888888888,
              "#fdca26"
             ],
             [
              1,
              "#f0f921"
             ]
            ],
            "type": "surface"
           }
          ],
          "table": [
           {
            "cells": {
             "fill": {
              "color": "#EBF0F8"
             },
             "line": {
              "color": "white"
             }
            },
            "header": {
             "fill": {
              "color": "#C8D4E3"
             },
             "line": {
              "color": "white"
             }
            },
            "type": "table"
           }
          ]
         },
         "layout": {
          "annotationdefaults": {
           "arrowcolor": "#2a3f5f",
           "arrowhead": 0,
           "arrowwidth": 1
          },
          "autotypenumbers": "strict",
          "coloraxis": {
           "colorbar": {
            "outlinewidth": 0,
            "ticks": ""
           }
          },
          "colorscale": {
           "diverging": [
            [
             0,
             "#8e0152"
            ],
            [
             0.1,
             "#c51b7d"
            ],
            [
             0.2,
             "#de77ae"
            ],
            [
             0.3,
             "#f1b6da"
            ],
            [
             0.4,
             "#fde0ef"
            ],
            [
             0.5,
             "#f7f7f7"
            ],
            [
             0.6,
             "#e6f5d0"
            ],
            [
             0.7,
             "#b8e186"
            ],
            [
             0.8,
             "#7fbc41"
            ],
            [
             0.9,
             "#4d9221"
            ],
            [
             1,
             "#276419"
            ]
           ],
           "sequential": [
            [
             0,
             "#0d0887"
            ],
            [
             0.1111111111111111,
             "#46039f"
            ],
            [
             0.2222222222222222,
             "#7201a8"
            ],
            [
             0.3333333333333333,
             "#9c179e"
            ],
            [
             0.4444444444444444,
             "#bd3786"
            ],
            [
             0.5555555555555556,
             "#d8576b"
            ],
            [
             0.6666666666666666,
             "#ed7953"
            ],
            [
             0.7777777777777778,
             "#fb9f3a"
            ],
            [
             0.8888888888888888,
             "#fdca26"
            ],
            [
             1,
             "#f0f921"
            ]
           ],
           "sequentialminus": [
            [
             0,
             "#0d0887"
            ],
            [
             0.1111111111111111,
             "#46039f"
            ],
            [
             0.2222222222222222,
             "#7201a8"
            ],
            [
             0.3333333333333333,
             "#9c179e"
            ],
            [
             0.4444444444444444,
             "#bd3786"
            ],
            [
             0.5555555555555556,
             "#d8576b"
            ],
            [
             0.6666666666666666,
             "#ed7953"
            ],
            [
             0.7777777777777778,
             "#fb9f3a"
            ],
            [
             0.8888888888888888,
             "#fdca26"
            ],
            [
             1,
             "#f0f921"
            ]
           ]
          },
          "colorway": [
           "#636efa",
           "#EF553B",
           "#00cc96",
           "#ab63fa",
           "#FFA15A",
           "#19d3f3",
           "#FF6692",
           "#B6E880",
           "#FF97FF",
           "#FECB52"
          ],
          "font": {
           "color": "#2a3f5f"
          },
          "geo": {
           "bgcolor": "white",
           "lakecolor": "white",
           "landcolor": "#E5ECF6",
           "showlakes": true,
           "showland": true,
           "subunitcolor": "white"
          },
          "hoverlabel": {
           "align": "left"
          },
          "hovermode": "closest",
          "mapbox": {
           "style": "light"
          },
          "paper_bgcolor": "white",
          "plot_bgcolor": "#E5ECF6",
          "polar": {
           "angularaxis": {
            "gridcolor": "white",
            "linecolor": "white",
            "ticks": ""
           },
           "bgcolor": "#E5ECF6",
           "radialaxis": {
            "gridcolor": "white",
            "linecolor": "white",
            "ticks": ""
           }
          },
          "scene": {
           "xaxis": {
            "backgroundcolor": "#E5ECF6",
            "gridcolor": "white",
            "gridwidth": 2,
            "linecolor": "white",
            "showbackground": true,
            "ticks": "",
            "zerolinecolor": "white"
           },
           "yaxis": {
            "backgroundcolor": "#E5ECF6",
            "gridcolor": "white",
            "gridwidth": 2,
            "linecolor": "white",
            "showbackground": true,
            "ticks": "",
            "zerolinecolor": "white"
           },
           "zaxis": {
            "backgroundcolor": "#E5ECF6",
            "gridcolor": "white",
            "gridwidth": 2,
            "linecolor": "white",
            "showbackground": true,
            "ticks": "",
            "zerolinecolor": "white"
           }
          },
          "shapedefaults": {
           "line": {
            "color": "#2a3f5f"
           }
          },
          "ternary": {
           "aaxis": {
            "gridcolor": "white",
            "linecolor": "white",
            "ticks": ""
           },
           "baxis": {
            "gridcolor": "white",
            "linecolor": "white",
            "ticks": ""
           },
           "bgcolor": "#E5ECF6",
           "caxis": {
            "gridcolor": "white",
            "linecolor": "white",
            "ticks": ""
           }
          },
          "title": {
           "x": 0.05
          },
          "xaxis": {
           "automargin": true,
           "gridcolor": "white",
           "linecolor": "white",
           "ticks": "",
           "title": {
            "standoff": 15
           },
           "zerolinecolor": "white",
           "zerolinewidth": 2
          },
          "yaxis": {
           "automargin": true,
           "gridcolor": "white",
           "linecolor": "white",
           "ticks": "",
           "title": {
            "standoff": 15
           },
           "zerolinecolor": "white",
           "zerolinewidth": 2
          }
         }
        },
        "width": 800,
        "xaxis": {
         "anchor": "y",
         "categoryarray": [
          "0 Posts",
          "1-5 Posts",
          "+5 Posts"
         ],
         "categoryorder": "array",
         "domain": [
          0,
          1
         ],
         "showgrid": false,
         "title": {
          "text": ""
         }
        },
        "yaxis": {
         "anchor": "x",
         "domain": [
          0,
          1
         ],
         "showgrid": false,
         "title": {
          "text": "%Users"
         }
        }
       }
      }
     },
     "metadata": {},
     "output_type": "display_data"
    }
   ],
   "source": [
    "'''\n",
    "    Number of users who posted X number of times according to bins.\n",
    "'''\n",
    "bins = nc['NumFuturePosts'].value_counts().sort_index()\n",
    "\n",
    "bins = pd.DataFrame.from_dict({\n",
    "    '0 Posts': bins[0] / len(nc.index),\n",
    "    '1-5 Posts': bins[1:5].sum() / len(nc.index),\n",
    "    '+5 Posts': bins[5:].sum() / len(nc.index)\n",
    "}, orient='index')\n",
    "\n",
    "fig = px.bar(bins, color=bins.index)\n",
    "\n",
    "fig.update_xaxes(\n",
    "    showgrid=False\n",
    ")\n",
    "\n",
    "fig.update_yaxes(\n",
    "    showgrid=False\n",
    ")\n",
    "\n",
    "fig.update_layout(\n",
    "    bargap=0.05,\n",
    "    showlegend=False,\n",
    "    xaxis_title = '',\n",
    "    yaxis_title = '%Users',\n",
    "    font_family='Calibri',\n",
    "    font_size=18,\n",
    "    height=600,\n",
    "    width=800\n",
    ")\n",
    "\n",
    "fig.show()"
   ]
  },
  {
   "cell_type": "code",
   "execution_count": 70,
   "metadata": {},
   "outputs": [
    {
     "data": {
      "application/vnd.plotly.v1+json": {
       "config": {
        "plotlyServerURL": "https://plot.ly"
       },
       "data": [
        {
         "alignmentgroup": "True",
         "hovertemplate": "variable=NumInitialPosts<br>index=%{x}<br>value=%{y}<extra></extra>",
         "legendgroup": "NumInitialPosts",
         "marker": {
          "color": "#636efa",
          "pattern": {
           "shape": ""
          }
         },
         "name": "NumInitialPosts",
         "offsetgroup": "NumInitialPosts",
         "orientation": "v",
         "showlegend": true,
         "textposition": "auto",
         "type": "bar",
         "x": [
          1,
          2,
          3,
          4,
          5,
          6,
          7,
          8,
          9,
          10,
          11,
          12,
          13,
          14,
          15,
          16,
          17,
          18,
          19,
          20,
          21,
          22,
          23,
          24,
          25,
          26,
          27,
          28,
          29,
          30,
          31,
          32,
          33,
          34,
          35,
          36,
          37,
          38,
          39,
          40,
          41,
          42,
          43,
          44,
          45,
          46,
          47,
          48,
          49,
          50,
          51,
          52,
          53,
          54,
          55,
          56,
          57,
          58,
          59,
          60,
          61,
          62,
          63,
          65,
          66,
          67,
          68,
          69,
          70,
          72,
          74,
          75,
          76,
          77,
          78,
          81,
          83,
          84,
          85,
          86,
          88,
          89,
          90,
          91,
          96,
          98,
          102,
          107,
          108,
          111,
          116,
          118,
          122,
          125,
          127,
          133,
          138,
          140,
          146,
          159,
          165,
          176,
          183,
          253,
          260
         ],
         "xaxis": "x",
         "y": [
          0.7241327639169851,
          0.15713701148630346,
          0.05010056999268058,
          0.02346248940989332,
          0.013105797326970625,
          0.007699800012679311,
          0.0055616070450864785,
          0.003671236982093354,
          0.0024321224590948126,
          0.00204597979378829,
          0.0016194938649422804,
          0.0012160612295474063,
          0.0010085815884871853,
          0.0008587351810548034,
          0.0006339655699062307,
          0.0006051489530923111,
          0.0003746160185809545,
          0.0003285094316786832,
          0.00039190598866930626,
          0.0002651128746880601,
          0.0002996928148647636,
          0.00031121946159033144,
          0.00024782290459970837,
          0.00015560973079516572,
          0.00011526646725567831,
          0.00016713637752073355,
          0.00013831976070681398,
          0.0001440830840695979,
          0.0001440830840695979,
          0.00009221317380454265,
          0.0001498464074323818,
          0.00011526646725567831,
          0.00008068652707897482,
          0.000057633233627839156,
          0.000057633233627839156,
          0.000046106586902271325,
          0.00004034326353948741,
          0.000046106586902271325,
          0.000046106586902271325,
          0.000017289970088351747,
          0.00005186991026505524,
          0.000028816616813919578,
          0.00004034326353948741,
          0.000017289970088351747,
          0.000023053293451135663,
          0.00004034326353948741,
          0.000023053293451135663,
          0.000034579940176703494,
          0.000028816616813919578,
          0.000034579940176703494,
          0.000023053293451135663,
          0.000023053293451135663,
          0.000023053293451135663,
          0.000017289970088351747,
          0.000011526646725567831,
          0.000017289970088351747,
          0.000017289970088351747,
          0.000023053293451135663,
          0.000017289970088351747,
          0.000005763323362783916,
          0.000005763323362783916,
          0.000005763323362783916,
          0.000017289970088351747,
          0.000011526646725567831,
          0.000005763323362783916,
          0.000011526646725567831,
          0.000023053293451135663,
          0.000011526646725567831,
          0.000011526646725567831,
          0.000017289970088351747,
          0.000005763323362783916,
          0.000011526646725567831,
          0.000005763323362783916,
          0.000017289970088351747,
          0.000005763323362783916,
          0.000011526646725567831,
          0.000005763323362783916,
          0.000011526646725567831,
          0.000005763323362783916,
          0.000005763323362783916,
          0.000005763323362783916,
          0.000017289970088351747,
          0.000011526646725567831,
          0.000005763323362783916,
          0.000005763323362783916,
          0.000005763323362783916,
          0.000005763323362783916,
          0.000005763323362783916,
          0.000011526646725567831,
          0.000005763323362783916,
          0.000005763323362783916,
          0.000005763323362783916,
          0.000005763323362783916,
          0.000005763323362783916,
          0.000005763323362783916,
          0.000005763323362783916,
          0.000005763323362783916,
          0.000005763323362783916,
          0.000005763323362783916,
          0.000005763323362783916,
          0.000005763323362783916,
          0.000005763323362783916,
          0.000005763323362783916,
          0.000005763323362783916,
          0.000005763323362783916
         ],
         "yaxis": "y"
        }
       ],
       "layout": {
        "bargap": 0.05,
        "barmode": "relative",
        "font": {
         "family": "Calibri",
         "size": 18
        },
        "height": 600,
        "legend": {
         "title": {
          "text": "variable"
         },
         "tracegroupgap": 0
        },
        "margin": {
         "t": 60
        },
        "showlegend": false,
        "template": {
         "data": {
          "bar": [
           {
            "error_x": {
             "color": "#2a3f5f"
            },
            "error_y": {
             "color": "#2a3f5f"
            },
            "marker": {
             "line": {
              "color": "#E5ECF6",
              "width": 0.5
             },
             "pattern": {
              "fillmode": "overlay",
              "size": 10,
              "solidity": 0.2
             }
            },
            "type": "bar"
           }
          ],
          "barpolar": [
           {
            "marker": {
             "line": {
              "color": "#E5ECF6",
              "width": 0.5
             },
             "pattern": {
              "fillmode": "overlay",
              "size": 10,
              "solidity": 0.2
             }
            },
            "type": "barpolar"
           }
          ],
          "carpet": [
           {
            "aaxis": {
             "endlinecolor": "#2a3f5f",
             "gridcolor": "white",
             "linecolor": "white",
             "minorgridcolor": "white",
             "startlinecolor": "#2a3f5f"
            },
            "baxis": {
             "endlinecolor": "#2a3f5f",
             "gridcolor": "white",
             "linecolor": "white",
             "minorgridcolor": "white",
             "startlinecolor": "#2a3f5f"
            },
            "type": "carpet"
           }
          ],
          "choropleth": [
           {
            "colorbar": {
             "outlinewidth": 0,
             "ticks": ""
            },
            "type": "choropleth"
           }
          ],
          "contour": [
           {
            "colorbar": {
             "outlinewidth": 0,
             "ticks": ""
            },
            "colorscale": [
             [
              0,
              "#0d0887"
             ],
             [
              0.1111111111111111,
              "#46039f"
             ],
             [
              0.2222222222222222,
              "#7201a8"
             ],
             [
              0.3333333333333333,
              "#9c179e"
             ],
             [
              0.4444444444444444,
              "#bd3786"
             ],
             [
              0.5555555555555556,
              "#d8576b"
             ],
             [
              0.6666666666666666,
              "#ed7953"
             ],
             [
              0.7777777777777778,
              "#fb9f3a"
             ],
             [
              0.8888888888888888,
              "#fdca26"
             ],
             [
              1,
              "#f0f921"
             ]
            ],
            "type": "contour"
           }
          ],
          "contourcarpet": [
           {
            "colorbar": {
             "outlinewidth": 0,
             "ticks": ""
            },
            "type": "contourcarpet"
           }
          ],
          "heatmap": [
           {
            "colorbar": {
             "outlinewidth": 0,
             "ticks": ""
            },
            "colorscale": [
             [
              0,
              "#0d0887"
             ],
             [
              0.1111111111111111,
              "#46039f"
             ],
             [
              0.2222222222222222,
              "#7201a8"
             ],
             [
              0.3333333333333333,
              "#9c179e"
             ],
             [
              0.4444444444444444,
              "#bd3786"
             ],
             [
              0.5555555555555556,
              "#d8576b"
             ],
             [
              0.6666666666666666,
              "#ed7953"
             ],
             [
              0.7777777777777778,
              "#fb9f3a"
             ],
             [
              0.8888888888888888,
              "#fdca26"
             ],
             [
              1,
              "#f0f921"
             ]
            ],
            "type": "heatmap"
           }
          ],
          "heatmapgl": [
           {
            "colorbar": {
             "outlinewidth": 0,
             "ticks": ""
            },
            "colorscale": [
             [
              0,
              "#0d0887"
             ],
             [
              0.1111111111111111,
              "#46039f"
             ],
             [
              0.2222222222222222,
              "#7201a8"
             ],
             [
              0.3333333333333333,
              "#9c179e"
             ],
             [
              0.4444444444444444,
              "#bd3786"
             ],
             [
              0.5555555555555556,
              "#d8576b"
             ],
             [
              0.6666666666666666,
              "#ed7953"
             ],
             [
              0.7777777777777778,
              "#fb9f3a"
             ],
             [
              0.8888888888888888,
              "#fdca26"
             ],
             [
              1,
              "#f0f921"
             ]
            ],
            "type": "heatmapgl"
           }
          ],
          "histogram": [
           {
            "marker": {
             "pattern": {
              "fillmode": "overlay",
              "size": 10,
              "solidity": 0.2
             }
            },
            "type": "histogram"
           }
          ],
          "histogram2d": [
           {
            "colorbar": {
             "outlinewidth": 0,
             "ticks": ""
            },
            "colorscale": [
             [
              0,
              "#0d0887"
             ],
             [
              0.1111111111111111,
              "#46039f"
             ],
             [
              0.2222222222222222,
              "#7201a8"
             ],
             [
              0.3333333333333333,
              "#9c179e"
             ],
             [
              0.4444444444444444,
              "#bd3786"
             ],
             [
              0.5555555555555556,
              "#d8576b"
             ],
             [
              0.6666666666666666,
              "#ed7953"
             ],
             [
              0.7777777777777778,
              "#fb9f3a"
             ],
             [
              0.8888888888888888,
              "#fdca26"
             ],
             [
              1,
              "#f0f921"
             ]
            ],
            "type": "histogram2d"
           }
          ],
          "histogram2dcontour": [
           {
            "colorbar": {
             "outlinewidth": 0,
             "ticks": ""
            },
            "colorscale": [
             [
              0,
              "#0d0887"
             ],
             [
              0.1111111111111111,
              "#46039f"
             ],
             [
              0.2222222222222222,
              "#7201a8"
             ],
             [
              0.3333333333333333,
              "#9c179e"
             ],
             [
              0.4444444444444444,
              "#bd3786"
             ],
             [
              0.5555555555555556,
              "#d8576b"
             ],
             [
              0.6666666666666666,
              "#ed7953"
             ],
             [
              0.7777777777777778,
              "#fb9f3a"
             ],
             [
              0.8888888888888888,
              "#fdca26"
             ],
             [
              1,
              "#f0f921"
             ]
            ],
            "type": "histogram2dcontour"
           }
          ],
          "mesh3d": [
           {
            "colorbar": {
             "outlinewidth": 0,
             "ticks": ""
            },
            "type": "mesh3d"
           }
          ],
          "parcoords": [
           {
            "line": {
             "colorbar": {
              "outlinewidth": 0,
              "ticks": ""
             }
            },
            "type": "parcoords"
           }
          ],
          "pie": [
           {
            "automargin": true,
            "type": "pie"
           }
          ],
          "scatter": [
           {
            "marker": {
             "colorbar": {
              "outlinewidth": 0,
              "ticks": ""
             }
            },
            "type": "scatter"
           }
          ],
          "scatter3d": [
           {
            "line": {
             "colorbar": {
              "outlinewidth": 0,
              "ticks": ""
             }
            },
            "marker": {
             "colorbar": {
              "outlinewidth": 0,
              "ticks": ""
             }
            },
            "type": "scatter3d"
           }
          ],
          "scattercarpet": [
           {
            "marker": {
             "colorbar": {
              "outlinewidth": 0,
              "ticks": ""
             }
            },
            "type": "scattercarpet"
           }
          ],
          "scattergeo": [
           {
            "marker": {
             "colorbar": {
              "outlinewidth": 0,
              "ticks": ""
             }
            },
            "type": "scattergeo"
           }
          ],
          "scattergl": [
           {
            "marker": {
             "colorbar": {
              "outlinewidth": 0,
              "ticks": ""
             }
            },
            "type": "scattergl"
           }
          ],
          "scattermapbox": [
           {
            "marker": {
             "colorbar": {
              "outlinewidth": 0,
              "ticks": ""
             }
            },
            "type": "scattermapbox"
           }
          ],
          "scatterpolar": [
           {
            "marker": {
             "colorbar": {
              "outlinewidth": 0,
              "ticks": ""
             }
            },
            "type": "scatterpolar"
           }
          ],
          "scatterpolargl": [
           {
            "marker": {
             "colorbar": {
              "outlinewidth": 0,
              "ticks": ""
             }
            },
            "type": "scatterpolargl"
           }
          ],
          "scatterternary": [
           {
            "marker": {
             "colorbar": {
              "outlinewidth": 0,
              "ticks": ""
             }
            },
            "type": "scatterternary"
           }
          ],
          "surface": [
           {
            "colorbar": {
             "outlinewidth": 0,
             "ticks": ""
            },
            "colorscale": [
             [
              0,
              "#0d0887"
             ],
             [
              0.1111111111111111,
              "#46039f"
             ],
             [
              0.2222222222222222,
              "#7201a8"
             ],
             [
              0.3333333333333333,
              "#9c179e"
             ],
             [
              0.4444444444444444,
              "#bd3786"
             ],
             [
              0.5555555555555556,
              "#d8576b"
             ],
             [
              0.6666666666666666,
              "#ed7953"
             ],
             [
              0.7777777777777778,
              "#fb9f3a"
             ],
             [
              0.8888888888888888,
              "#fdca26"
             ],
             [
              1,
              "#f0f921"
             ]
            ],
            "type": "surface"
           }
          ],
          "table": [
           {
            "cells": {
             "fill": {
              "color": "#EBF0F8"
             },
             "line": {
              "color": "white"
             }
            },
            "header": {
             "fill": {
              "color": "#C8D4E3"
             },
             "line": {
              "color": "white"
             }
            },
            "type": "table"
           }
          ]
         },
         "layout": {
          "annotationdefaults": {
           "arrowcolor": "#2a3f5f",
           "arrowhead": 0,
           "arrowwidth": 1
          },
          "autotypenumbers": "strict",
          "coloraxis": {
           "colorbar": {
            "outlinewidth": 0,
            "ticks": ""
           }
          },
          "colorscale": {
           "diverging": [
            [
             0,
             "#8e0152"
            ],
            [
             0.1,
             "#c51b7d"
            ],
            [
             0.2,
             "#de77ae"
            ],
            [
             0.3,
             "#f1b6da"
            ],
            [
             0.4,
             "#fde0ef"
            ],
            [
             0.5,
             "#f7f7f7"
            ],
            [
             0.6,
             "#e6f5d0"
            ],
            [
             0.7,
             "#b8e186"
            ],
            [
             0.8,
             "#7fbc41"
            ],
            [
             0.9,
             "#4d9221"
            ],
            [
             1,
             "#276419"
            ]
           ],
           "sequential": [
            [
             0,
             "#0d0887"
            ],
            [
             0.1111111111111111,
             "#46039f"
            ],
            [
             0.2222222222222222,
             "#7201a8"
            ],
            [
             0.3333333333333333,
             "#9c179e"
            ],
            [
             0.4444444444444444,
             "#bd3786"
            ],
            [
             0.5555555555555556,
             "#d8576b"
            ],
            [
             0.6666666666666666,
             "#ed7953"
            ],
            [
             0.7777777777777778,
             "#fb9f3a"
            ],
            [
             0.8888888888888888,
             "#fdca26"
            ],
            [
             1,
             "#f0f921"
            ]
           ],
           "sequentialminus": [
            [
             0,
             "#0d0887"
            ],
            [
             0.1111111111111111,
             "#46039f"
            ],
            [
             0.2222222222222222,
             "#7201a8"
            ],
            [
             0.3333333333333333,
             "#9c179e"
            ],
            [
             0.4444444444444444,
             "#bd3786"
            ],
            [
             0.5555555555555556,
             "#d8576b"
            ],
            [
             0.6666666666666666,
             "#ed7953"
            ],
            [
             0.7777777777777778,
             "#fb9f3a"
            ],
            [
             0.8888888888888888,
             "#fdca26"
            ],
            [
             1,
             "#f0f921"
            ]
           ]
          },
          "colorway": [
           "#636efa",
           "#EF553B",
           "#00cc96",
           "#ab63fa",
           "#FFA15A",
           "#19d3f3",
           "#FF6692",
           "#B6E880",
           "#FF97FF",
           "#FECB52"
          ],
          "font": {
           "color": "#2a3f5f"
          },
          "geo": {
           "bgcolor": "white",
           "lakecolor": "white",
           "landcolor": "#E5ECF6",
           "showlakes": true,
           "showland": true,
           "subunitcolor": "white"
          },
          "hoverlabel": {
           "align": "left"
          },
          "hovermode": "closest",
          "mapbox": {
           "style": "light"
          },
          "paper_bgcolor": "white",
          "plot_bgcolor": "#E5ECF6",
          "polar": {
           "angularaxis": {
            "gridcolor": "white",
            "linecolor": "white",
            "ticks": ""
           },
           "bgcolor": "#E5ECF6",
           "radialaxis": {
            "gridcolor": "white",
            "linecolor": "white",
            "ticks": ""
           }
          },
          "scene": {
           "xaxis": {
            "backgroundcolor": "#E5ECF6",
            "gridcolor": "white",
            "gridwidth": 2,
            "linecolor": "white",
            "showbackground": true,
            "ticks": "",
            "zerolinecolor": "white"
           },
           "yaxis": {
            "backgroundcolor": "#E5ECF6",
            "gridcolor": "white",
            "gridwidth": 2,
            "linecolor": "white",
            "showbackground": true,
            "ticks": "",
            "zerolinecolor": "white"
           },
           "zaxis": {
            "backgroundcolor": "#E5ECF6",
            "gridcolor": "white",
            "gridwidth": 2,
            "linecolor": "white",
            "showbackground": true,
            "ticks": "",
            "zerolinecolor": "white"
           }
          },
          "shapedefaults": {
           "line": {
            "color": "#2a3f5f"
           }
          },
          "ternary": {
           "aaxis": {
            "gridcolor": "white",
            "linecolor": "white",
            "ticks": ""
           },
           "baxis": {
            "gridcolor": "white",
            "linecolor": "white",
            "ticks": ""
           },
           "bgcolor": "#E5ECF6",
           "caxis": {
            "gridcolor": "white",
            "linecolor": "white",
            "ticks": ""
           }
          },
          "title": {
           "x": 0.05
          },
          "xaxis": {
           "automargin": true,
           "gridcolor": "white",
           "linecolor": "white",
           "ticks": "",
           "title": {
            "standoff": 15
           },
           "zerolinecolor": "white",
           "zerolinewidth": 2
          },
          "yaxis": {
           "automargin": true,
           "gridcolor": "white",
           "linecolor": "white",
           "ticks": "",
           "title": {
            "standoff": 15
           },
           "zerolinecolor": "white",
           "zerolinewidth": 2
          }
         }
        },
        "width": 800,
        "xaxis": {
         "anchor": "y",
         "domain": [
          0,
          1
         ],
         "range": [
          0.5,
          5.5
         ],
         "showgrid": false,
         "title": {
          "text": "#Posts"
         }
        },
        "yaxis": {
         "anchor": "x",
         "domain": [
          0,
          1
         ],
         "showgrid": false,
         "title": {
          "text": "%Users"
         }
        }
       }
      }
     },
     "metadata": {},
     "output_type": "display_data"
    }
   ],
   "source": [
    "'''\n",
    "    Distribution of number of initial posts made by StackOverflow newcomers.\n",
    "'''\n",
    "X_MAX_RANGE = 5\n",
    "\n",
    "fig = px.bar(nc['NumInitialPosts'].value_counts().sort_index() / len(nc.index))\n",
    "\n",
    "fig.update_xaxes(\n",
    "    range=[0.5, X_MAX_RANGE + 0.5],\n",
    "    showgrid=False\n",
    ")\n",
    "\n",
    "fig.update_yaxes(\n",
    "    showgrid=False\n",
    ")\n",
    "\n",
    "fig.update_layout(\n",
    "    bargap=0.05,\n",
    "    showlegend=False,\n",
    "    xaxis_title = '#Posts',\n",
    "    yaxis_title = '%Users',\n",
    "    font_family='Calibri',\n",
    "    font_size=18,\n",
    "    height=600,\n",
    "    width=800\n",
    ")\n",
    "\n",
    "fig.show()"
   ]
  },
  {
   "cell_type": "markdown",
   "metadata": {},
   "source": [
    "## Utility Functions"
   ]
  },
  {
   "cell_type": "code",
   "execution_count": 7,
   "metadata": {},
   "outputs": [],
   "source": [
    "def log_odds(model):\n",
    "    odds = model.conf_int()\n",
    "    odds['Odds Ratio'] = model.params\n",
    "    odds.columns = ['5%', '95%', 'Odds Ratio']\n",
    "    odds = np.exp(odds)\n",
    "\n",
    "    return odds"
   ]
  },
  {
   "cell_type": "markdown",
   "metadata": {},
   "source": [
    "## All Posts Logistic Regression"
   ]
  },
  {
   "cell_type": "code",
   "execution_count": 8,
   "metadata": {},
   "outputs": [
    {
     "data": {
      "text/plain": [
       "False    0.851341\n",
       "True     0.148659\n",
       "Name: Retained, dtype: float64"
      ]
     },
     "metadata": {},
     "output_type": "display_data"
    },
    {
     "data": {
      "text/html": [
       "<table class=\"simpletable\">\n",
       "<caption>Logit Regression Results</caption>\n",
       "<tr>\n",
       "  <th>Dep. Variable:</th>       <td>Retained</td>     <th>  No. Observations:  </th>  <td>173511</td>  \n",
       "</tr>\n",
       "<tr>\n",
       "  <th>Model:</th>                 <td>Logit</td>      <th>  Df Residuals:      </th>  <td>173505</td>  \n",
       "</tr>\n",
       "<tr>\n",
       "  <th>Method:</th>                 <td>MLE</td>       <th>  Df Model:          </th>  <td>     5</td>  \n",
       "</tr>\n",
       "<tr>\n",
       "  <th>Date:</th>            <td>Mon, 28 Mar 2022</td> <th>  Pseudo R-squ.:     </th> <td>0.0009023</td>\n",
       "</tr>\n",
       "<tr>\n",
       "  <th>Time:</th>                <td>20:32:36</td>     <th>  Log-Likelihood:    </th> <td> -72874.</td> \n",
       "</tr>\n",
       "<tr>\n",
       "  <th>converged:</th>             <td>True</td>       <th>  LL-Null:           </th> <td> -72940.</td> \n",
       "</tr>\n",
       "<tr>\n",
       "  <th>Covariance Type:</th>     <td>nonrobust</td>    <th>  LLR p-value:       </th> <td>1.076e-26</td>\n",
       "</tr>\n",
       "</table>\n",
       "<table class=\"simpletable\">\n",
       "<tr>\n",
       "          <td></td>            <th>coef</th>     <th>std err</th>      <th>z</th>      <th>P>|z|</th>  <th>[0.025</th>    <th>0.975]</th>  \n",
       "</tr>\n",
       "<tr>\n",
       "  <th>Intercept</th>        <td>   -1.7643</td> <td>    0.008</td> <td> -209.887</td> <td> 0.000</td> <td>   -1.781</td> <td>   -1.748</td>\n",
       "</tr>\n",
       "<tr>\n",
       "  <th>AvgUpVotes</th>       <td>    0.0104</td> <td>    0.003</td> <td>    3.165</td> <td> 0.002</td> <td>    0.004</td> <td>    0.017</td>\n",
       "</tr>\n",
       "<tr>\n",
       "  <th>AvgDownVotes</th>     <td>   -0.0588</td> <td>    0.012</td> <td>   -5.064</td> <td> 0.000</td> <td>   -0.082</td> <td>   -0.036</td>\n",
       "</tr>\n",
       "<tr>\n",
       "  <th>AvgOtherPositive</th> <td>    0.1614</td> <td>    0.023</td> <td>    7.065</td> <td> 0.000</td> <td>    0.117</td> <td>    0.206</td>\n",
       "</tr>\n",
       "<tr>\n",
       "  <th>AvgOtherNegative</th> <td>   -0.2649</td> <td>    0.115</td> <td>   -2.313</td> <td> 0.021</td> <td>   -0.489</td> <td>   -0.040</td>\n",
       "</tr>\n",
       "<tr>\n",
       "  <th>Lurking</th>          <td> 4.576e-05</td> <td> 1.19e-05</td> <td>    3.843</td> <td> 0.000</td> <td> 2.24e-05</td> <td> 6.91e-05</td>\n",
       "</tr>\n",
       "</table>"
      ],
      "text/plain": [
       "<class 'statsmodels.iolib.summary.Summary'>\n",
       "\"\"\"\n",
       "                           Logit Regression Results                           \n",
       "==============================================================================\n",
       "Dep. Variable:               Retained   No. Observations:               173511\n",
       "Model:                          Logit   Df Residuals:                   173505\n",
       "Method:                           MLE   Df Model:                            5\n",
       "Date:                Mon, 28 Mar 2022   Pseudo R-squ.:               0.0009023\n",
       "Time:                        20:32:36   Log-Likelihood:                -72874.\n",
       "converged:                       True   LL-Null:                       -72940.\n",
       "Covariance Type:            nonrobust   LLR p-value:                 1.076e-26\n",
       "====================================================================================\n",
       "                       coef    std err          z      P>|z|      [0.025      0.975]\n",
       "------------------------------------------------------------------------------------\n",
       "Intercept           -1.7643      0.008   -209.887      0.000      -1.781      -1.748\n",
       "AvgUpVotes           0.0104      0.003      3.165      0.002       0.004       0.017\n",
       "AvgDownVotes        -0.0588      0.012     -5.064      0.000      -0.082      -0.036\n",
       "AvgOtherPositive     0.1614      0.023      7.065      0.000       0.117       0.206\n",
       "AvgOtherNegative    -0.2649      0.115     -2.313      0.021      -0.489      -0.040\n",
       "Lurking           4.576e-05   1.19e-05      3.843      0.000    2.24e-05    6.91e-05\n",
       "====================================================================================\n",
       "\"\"\""
      ]
     },
     "metadata": {},
     "output_type": "display_data"
    },
    {
     "data": {
      "text/html": [
       "<div>\n",
       "<style scoped>\n",
       "    .dataframe tbody tr th:only-of-type {\n",
       "        vertical-align: middle;\n",
       "    }\n",
       "\n",
       "    .dataframe tbody tr th {\n",
       "        vertical-align: top;\n",
       "    }\n",
       "\n",
       "    .dataframe thead th {\n",
       "        text-align: right;\n",
       "    }\n",
       "</style>\n",
       "<table border=\"1\" class=\"dataframe\">\n",
       "  <thead>\n",
       "    <tr style=\"text-align: right;\">\n",
       "      <th></th>\n",
       "      <th>5%</th>\n",
       "      <th>95%</th>\n",
       "      <th>Odds Ratio</th>\n",
       "    </tr>\n",
       "  </thead>\n",
       "  <tbody>\n",
       "    <tr>\n",
       "      <th>Intercept</th>\n",
       "      <td>0.168511</td>\n",
       "      <td>0.174156</td>\n",
       "      <td>0.171310</td>\n",
       "    </tr>\n",
       "    <tr>\n",
       "      <th>AvgUpVotes</th>\n",
       "      <td>1.003983</td>\n",
       "      <td>1.017045</td>\n",
       "      <td>1.010492</td>\n",
       "    </tr>\n",
       "    <tr>\n",
       "      <th>AvgDownVotes</th>\n",
       "      <td>0.921697</td>\n",
       "      <td>0.964610</td>\n",
       "      <td>0.942909</td>\n",
       "    </tr>\n",
       "    <tr>\n",
       "      <th>AvgOtherPositive</th>\n",
       "      <td>1.123688</td>\n",
       "      <td>1.228958</td>\n",
       "      <td>1.175145</td>\n",
       "    </tr>\n",
       "    <tr>\n",
       "      <th>AvgOtherNegative</th>\n",
       "      <td>0.612939</td>\n",
       "      <td>0.960410</td>\n",
       "      <td>0.767251</td>\n",
       "    </tr>\n",
       "    <tr>\n",
       "      <th>Lurking</th>\n",
       "      <td>1.000022</td>\n",
       "      <td>1.000069</td>\n",
       "      <td>1.000046</td>\n",
       "    </tr>\n",
       "  </tbody>\n",
       "</table>\n",
       "</div>"
      ],
      "text/plain": [
       "                        5%       95%  Odds Ratio\n",
       "Intercept         0.168511  0.174156    0.171310\n",
       "AvgUpVotes        1.003983  1.017045    1.010492\n",
       "AvgDownVotes      0.921697  0.964610    0.942909\n",
       "AvgOtherPositive  1.123688  1.228958    1.175145\n",
       "AvgOtherNegative  0.612939  0.960410    0.767251\n",
       "Lurking           1.000022  1.000069    1.000046"
      ]
     },
     "metadata": {},
     "output_type": "display_data"
    },
    {
     "name": "stdout",
     "output_type": "stream",
     "text": [
      "Ran on 173,511 newcomers.\n"
     ]
    }
   ],
   "source": [
    "'''\n",
    "    Logistic regression over all posts (i.e. questions and answers).\n",
    "'''\n",
    "model = smf.logit(\n",
    "    formula='Retained ~ AvgUpVotes + AvgDownVotes + AvgOtherPositive + AvgOtherNegative ' \\\n",
    "        '+ Lurking',\n",
    "    data=nc\n",
    ").fit(disp=False) # Turning off annoying print statement.\n",
    "\n",
    "display(nc['Retained'].astype(bool).value_counts() / len(nc.index))\n",
    "display(model.summary())\n",
    "display(log_odds(model))\n",
    "print(f'Ran on {len(nc.index):,} newcomers.')"
   ]
  },
  {
   "cell_type": "markdown",
   "metadata": {},
   "source": [
    "## Answered Questions Logistic Regression"
   ]
  },
  {
   "cell_type": "code",
   "execution_count": 9,
   "metadata": {},
   "outputs": [
    {
     "data": {
      "text/plain": [
       "False    0.832198\n",
       "True     0.167802\n",
       "Name: Retained, dtype: float64"
      ]
     },
     "metadata": {},
     "output_type": "display_data"
    },
    {
     "data": {
      "text/html": [
       "<table class=\"simpletable\">\n",
       "<caption>Logit Regression Results</caption>\n",
       "<tr>\n",
       "  <th>Dep. Variable:</th>       <td>Retained</td>     <th>  No. Observations:  </th>  <td>103038</td>  \n",
       "</tr>\n",
       "<tr>\n",
       "  <th>Model:</th>                 <td>Logit</td>      <th>  Df Residuals:      </th>  <td>103028</td>  \n",
       "</tr>\n",
       "<tr>\n",
       "  <th>Method:</th>                 <td>MLE</td>       <th>  Df Model:          </th>  <td>     9</td>  \n",
       "</tr>\n",
       "<tr>\n",
       "  <th>Date:</th>            <td>Mon, 28 Mar 2022</td> <th>  Pseudo R-squ.:     </th> <td>0.002099</td> \n",
       "</tr>\n",
       "<tr>\n",
       "  <th>Time:</th>                <td>20:32:37</td>     <th>  Log-Likelihood:    </th> <td> -46515.</td> \n",
       "</tr>\n",
       "<tr>\n",
       "  <th>converged:</th>             <td>True</td>       <th>  LL-Null:           </th> <td> -46613.</td> \n",
       "</tr>\n",
       "<tr>\n",
       "  <th>Covariance Type:</th>     <td>nonrobust</td>    <th>  LLR p-value:       </th> <td>2.690e-37</td>\n",
       "</tr>\n",
       "</table>\n",
       "<table class=\"simpletable\">\n",
       "<tr>\n",
       "          <td></td>             <th>coef</th>     <th>std err</th>      <th>z</th>      <th>P>|z|</th>  <th>[0.025</th>    <th>0.975]</th>  \n",
       "</tr>\n",
       "<tr>\n",
       "  <th>Intercept</th>         <td>   -1.5671</td> <td>    0.021</td> <td>  -74.776</td> <td> 0.000</td> <td>   -1.608</td> <td>   -1.526</td>\n",
       "</tr>\n",
       "<tr>\n",
       "  <th>AvgTopAnswererRep</th> <td> 2.736e-07</td> <td> 6.56e-08</td> <td>    4.169</td> <td> 0.000</td> <td> 1.45e-07</td> <td> 4.02e-07</td>\n",
       "</tr>\n",
       "<tr>\n",
       "  <th>AvgTopAnswererAge</th> <td>-3.687e-05</td> <td> 7.77e-06</td> <td>   -4.742</td> <td> 0.000</td> <td>-5.21e-05</td> <td>-2.16e-05</td>\n",
       "</tr>\n",
       "<tr>\n",
       "  <th>AvgUpVotes</th>        <td>    0.0110</td> <td>    0.007</td> <td>    1.663</td> <td> 0.096</td> <td>   -0.002</td> <td>    0.024</td>\n",
       "</tr>\n",
       "<tr>\n",
       "  <th>AvgDownVotes</th>      <td>   -0.1311</td> <td>    0.013</td> <td>  -10.178</td> <td> 0.000</td> <td>   -0.156</td> <td>   -0.106</td>\n",
       "</tr>\n",
       "<tr>\n",
       "  <th>AvgOtherPositive</th>  <td>    0.0396</td> <td>    0.030</td> <td>    1.301</td> <td> 0.193</td> <td>   -0.020</td> <td>    0.099</td>\n",
       "</tr>\n",
       "<tr>\n",
       "  <th>AvgOtherNegative</th>  <td>    0.1923</td> <td>    0.140</td> <td>    1.378</td> <td> 0.168</td> <td>   -0.081</td> <td>    0.466</td>\n",
       "</tr>\n",
       "<tr>\n",
       "  <th>Lurking</th>           <td> 6.913e-05</td> <td> 1.68e-05</td> <td>    4.123</td> <td> 0.000</td> <td> 3.63e-05</td> <td>    0.000</td>\n",
       "</tr>\n",
       "<tr>\n",
       "  <th>AvgViewCount</th>      <td> 1.409e-05</td> <td> 3.71e-06</td> <td>    3.795</td> <td> 0.000</td> <td> 6.81e-06</td> <td> 2.14e-05</td>\n",
       "</tr>\n",
       "<tr>\n",
       "  <th>AvgNumAnswers</th>     <td>    0.0117</td> <td>    0.012</td> <td>    0.943</td> <td> 0.346</td> <td>   -0.013</td> <td>    0.036</td>\n",
       "</tr>\n",
       "</table>"
      ],
      "text/plain": [
       "<class 'statsmodels.iolib.summary.Summary'>\n",
       "\"\"\"\n",
       "                           Logit Regression Results                           \n",
       "==============================================================================\n",
       "Dep. Variable:               Retained   No. Observations:               103038\n",
       "Model:                          Logit   Df Residuals:                   103028\n",
       "Method:                           MLE   Df Model:                            9\n",
       "Date:                Mon, 28 Mar 2022   Pseudo R-squ.:                0.002099\n",
       "Time:                        20:32:37   Log-Likelihood:                -46515.\n",
       "converged:                       True   LL-Null:                       -46613.\n",
       "Covariance Type:            nonrobust   LLR p-value:                 2.690e-37\n",
       "=====================================================================================\n",
       "                        coef    std err          z      P>|z|      [0.025      0.975]\n",
       "-------------------------------------------------------------------------------------\n",
       "Intercept            -1.5671      0.021    -74.776      0.000      -1.608      -1.526\n",
       "AvgTopAnswererRep  2.736e-07   6.56e-08      4.169      0.000    1.45e-07    4.02e-07\n",
       "AvgTopAnswererAge -3.687e-05   7.77e-06     -4.742      0.000   -5.21e-05   -2.16e-05\n",
       "AvgUpVotes            0.0110      0.007      1.663      0.096      -0.002       0.024\n",
       "AvgDownVotes         -0.1311      0.013    -10.178      0.000      -0.156      -0.106\n",
       "AvgOtherPositive      0.0396      0.030      1.301      0.193      -0.020       0.099\n",
       "AvgOtherNegative      0.1923      0.140      1.378      0.168      -0.081       0.466\n",
       "Lurking            6.913e-05   1.68e-05      4.123      0.000    3.63e-05       0.000\n",
       "AvgViewCount       1.409e-05   3.71e-06      3.795      0.000    6.81e-06    2.14e-05\n",
       "AvgNumAnswers         0.0117      0.012      0.943      0.346      -0.013       0.036\n",
       "=====================================================================================\n",
       "\"\"\""
      ]
     },
     "metadata": {},
     "output_type": "display_data"
    },
    {
     "data": {
      "text/html": [
       "<div>\n",
       "<style scoped>\n",
       "    .dataframe tbody tr th:only-of-type {\n",
       "        vertical-align: middle;\n",
       "    }\n",
       "\n",
       "    .dataframe tbody tr th {\n",
       "        vertical-align: top;\n",
       "    }\n",
       "\n",
       "    .dataframe thead th {\n",
       "        text-align: right;\n",
       "    }\n",
       "</style>\n",
       "<table border=\"1\" class=\"dataframe\">\n",
       "  <thead>\n",
       "    <tr style=\"text-align: right;\">\n",
       "      <th></th>\n",
       "      <th>5%</th>\n",
       "      <th>95%</th>\n",
       "      <th>Odds Ratio</th>\n",
       "    </tr>\n",
       "  </thead>\n",
       "  <tbody>\n",
       "    <tr>\n",
       "      <th>Intercept</th>\n",
       "      <td>0.200245</td>\n",
       "      <td>0.217391</td>\n",
       "      <td>0.208642</td>\n",
       "    </tr>\n",
       "    <tr>\n",
       "      <th>AvgTopAnswererRep</th>\n",
       "      <td>1.000000</td>\n",
       "      <td>1.000000</td>\n",
       "      <td>1.000000</td>\n",
       "    </tr>\n",
       "    <tr>\n",
       "      <th>AvgTopAnswererAge</th>\n",
       "      <td>0.999948</td>\n",
       "      <td>0.999978</td>\n",
       "      <td>0.999963</td>\n",
       "    </tr>\n",
       "    <tr>\n",
       "      <th>AvgUpVotes</th>\n",
       "      <td>0.998044</td>\n",
       "      <td>1.024214</td>\n",
       "      <td>1.011044</td>\n",
       "    </tr>\n",
       "    <tr>\n",
       "      <th>AvgDownVotes</th>\n",
       "      <td>0.855227</td>\n",
       "      <td>0.899530</td>\n",
       "      <td>0.877099</td>\n",
       "    </tr>\n",
       "    <tr>\n",
       "      <th>AvgOtherPositive</th>\n",
       "      <td>0.980137</td>\n",
       "      <td>1.104374</td>\n",
       "      <td>1.040403</td>\n",
       "    </tr>\n",
       "    <tr>\n",
       "      <th>AvgOtherNegative</th>\n",
       "      <td>0.921992</td>\n",
       "      <td>1.593288</td>\n",
       "      <td>1.212022</td>\n",
       "    </tr>\n",
       "    <tr>\n",
       "      <th>Lurking</th>\n",
       "      <td>1.000036</td>\n",
       "      <td>1.000102</td>\n",
       "      <td>1.000069</td>\n",
       "    </tr>\n",
       "    <tr>\n",
       "      <th>AvgViewCount</th>\n",
       "      <td>1.000007</td>\n",
       "      <td>1.000021</td>\n",
       "      <td>1.000014</td>\n",
       "    </tr>\n",
       "    <tr>\n",
       "      <th>AvgNumAnswers</th>\n",
       "      <td>0.987426</td>\n",
       "      <td>1.036767</td>\n",
       "      <td>1.011796</td>\n",
       "    </tr>\n",
       "  </tbody>\n",
       "</table>\n",
       "</div>"
      ],
      "text/plain": [
       "                         5%       95%  Odds Ratio\n",
       "Intercept          0.200245  0.217391    0.208642\n",
       "AvgTopAnswererRep  1.000000  1.000000    1.000000\n",
       "AvgTopAnswererAge  0.999948  0.999978    0.999963\n",
       "AvgUpVotes         0.998044  1.024214    1.011044\n",
       "AvgDownVotes       0.855227  0.899530    0.877099\n",
       "AvgOtherPositive   0.980137  1.104374    1.040403\n",
       "AvgOtherNegative   0.921992  1.593288    1.212022\n",
       "Lurking            1.000036  1.000102    1.000069\n",
       "AvgViewCount       1.000007  1.000021    1.000014\n",
       "AvgNumAnswers      0.987426  1.036767    1.011796"
      ]
     },
     "metadata": {},
     "output_type": "display_data"
    },
    {
     "name": "stdout",
     "output_type": "stream",
     "text": [
      "Ran on 103,038 newcomers.\n"
     ]
    }
   ],
   "source": [
    "data = nc[(nc['NumQuestions'] > 0) & (nc['AvgNumAnswers'] > 0)]\n",
    "\n",
    "model = smf.logit(\n",
    "    formula='Retained ~ AvgTopAnswererRep + AvgTopAnswererAge ' \\\n",
    "        '+ AvgUpVotes + AvgDownVotes + AvgOtherPositive + AvgOtherNegative ' \\\n",
    "        '+ Lurking + AvgViewCount + AvgNumAnswers',\n",
    "    data=data\n",
    ").fit(disp=False)\n",
    "\n",
    "display(data['Retained'].astype(bool).value_counts() / len(data.index))\n",
    "display(model.summary())\n",
    "display(log_odds(model))\n",
    "print(f\"Ran on {len(data.index):,} newcomers.\")"
   ]
  },
  {
   "cell_type": "markdown",
   "metadata": {},
   "source": [
    "## Edited Posts Logistic Regression"
   ]
  },
  {
   "cell_type": "code",
   "execution_count": 10,
   "metadata": {},
   "outputs": [
    {
     "data": {
      "text/plain": [
       "False    0.835842\n",
       "True     0.164158\n",
       "Name: Retained, dtype: float64"
      ]
     },
     "metadata": {},
     "output_type": "display_data"
    },
    {
     "data": {
      "text/html": [
       "<table class=\"simpletable\">\n",
       "<caption>Logit Regression Results</caption>\n",
       "<tr>\n",
       "  <th>Dep. Variable:</th>       <td>Retained</td>     <th>  No. Observations:  </th>   <td> 32219</td>  \n",
       "</tr>\n",
       "<tr>\n",
       "  <th>Model:</th>                 <td>Logit</td>      <th>  Df Residuals:      </th>   <td> 32210</td>  \n",
       "</tr>\n",
       "<tr>\n",
       "  <th>Method:</th>                 <td>MLE</td>       <th>  Df Model:          </th>   <td>     8</td>  \n",
       "</tr>\n",
       "<tr>\n",
       "  <th>Date:</th>            <td>Mon, 28 Mar 2022</td> <th>  Pseudo R-squ.:     </th>   <td>0.03886</td> \n",
       "</tr>\n",
       "<tr>\n",
       "  <th>Time:</th>                <td>20:32:37</td>     <th>  Log-Likelihood:    </th>  <td> -13827.</td> \n",
       "</tr>\n",
       "<tr>\n",
       "  <th>converged:</th>             <td>True</td>       <th>  LL-Null:           </th>  <td> -14386.</td> \n",
       "</tr>\n",
       "<tr>\n",
       "  <th>Covariance Type:</th>     <td>nonrobust</td>    <th>  LLR p-value:       </th> <td>4.978e-236</td>\n",
       "</tr>\n",
       "</table>\n",
       "<table class=\"simpletable\">\n",
       "<tr>\n",
       "          <td></td>            <th>coef</th>     <th>std err</th>      <th>z</th>      <th>P>|z|</th>  <th>[0.025</th>    <th>0.975]</th>  \n",
       "</tr>\n",
       "<tr>\n",
       "  <th>Intercept</th>        <td>   -0.5728</td> <td>    0.041</td> <td>  -13.806</td> <td> 0.000</td> <td>   -0.654</td> <td>   -0.491</td>\n",
       "</tr>\n",
       "<tr>\n",
       "  <th>AvgEditorRep</th>     <td> 7.866e-08</td> <td> 6.11e-06</td> <td>    0.013</td> <td> 0.990</td> <td>-1.19e-05</td> <td> 1.21e-05</td>\n",
       "</tr>\n",
       "<tr>\n",
       "  <th>AvgEditorAge</th>     <td>-4.506e-05</td> <td> 1.61e-05</td> <td>   -2.803</td> <td> 0.005</td> <td>-7.66e-05</td> <td>-1.36e-05</td>\n",
       "</tr>\n",
       "<tr>\n",
       "  <th>AvgUpVotes</th>       <td>    0.0182</td> <td>    0.005</td> <td>    3.455</td> <td> 0.001</td> <td>    0.008</td> <td>    0.029</td>\n",
       "</tr>\n",
       "<tr>\n",
       "  <th>AvgDownVotes</th>     <td>   -0.0060</td> <td>    0.025</td> <td>   -0.237</td> <td> 0.812</td> <td>   -0.056</td> <td>    0.044</td>\n",
       "</tr>\n",
       "<tr>\n",
       "  <th>AvgOtherPositive</th> <td>    0.0631</td> <td>    0.055</td> <td>    1.148</td> <td> 0.251</td> <td>   -0.045</td> <td>    0.171</td>\n",
       "</tr>\n",
       "<tr>\n",
       "  <th>AvgOtherNegative</th> <td>   -0.5023</td> <td>    0.299</td> <td>   -1.677</td> <td> 0.093</td> <td>   -1.089</td> <td>    0.085</td>\n",
       "</tr>\n",
       "<tr>\n",
       "  <th>AvgNumEdits</th>      <td>   -1.3575</td> <td>    0.043</td> <td>  -31.504</td> <td> 0.000</td> <td>   -1.442</td> <td>   -1.273</td>\n",
       "</tr>\n",
       "<tr>\n",
       "  <th>Lurking</th>          <td> 9.647e-05</td> <td> 3.07e-05</td> <td>    3.137</td> <td> 0.002</td> <td> 3.62e-05</td> <td>    0.000</td>\n",
       "</tr>\n",
       "</table>"
      ],
      "text/plain": [
       "<class 'statsmodels.iolib.summary.Summary'>\n",
       "\"\"\"\n",
       "                           Logit Regression Results                           \n",
       "==============================================================================\n",
       "Dep. Variable:               Retained   No. Observations:                32219\n",
       "Model:                          Logit   Df Residuals:                    32210\n",
       "Method:                           MLE   Df Model:                            8\n",
       "Date:                Mon, 28 Mar 2022   Pseudo R-squ.:                 0.03886\n",
       "Time:                        20:32:37   Log-Likelihood:                -13827.\n",
       "converged:                       True   LL-Null:                       -14386.\n",
       "Covariance Type:            nonrobust   LLR p-value:                4.978e-236\n",
       "====================================================================================\n",
       "                       coef    std err          z      P>|z|      [0.025      0.975]\n",
       "------------------------------------------------------------------------------------\n",
       "Intercept           -0.5728      0.041    -13.806      0.000      -0.654      -0.491\n",
       "AvgEditorRep      7.866e-08   6.11e-06      0.013      0.990   -1.19e-05    1.21e-05\n",
       "AvgEditorAge     -4.506e-05   1.61e-05     -2.803      0.005   -7.66e-05   -1.36e-05\n",
       "AvgUpVotes           0.0182      0.005      3.455      0.001       0.008       0.029\n",
       "AvgDownVotes        -0.0060      0.025     -0.237      0.812      -0.056       0.044\n",
       "AvgOtherPositive     0.0631      0.055      1.148      0.251      -0.045       0.171\n",
       "AvgOtherNegative    -0.5023      0.299     -1.677      0.093      -1.089       0.085\n",
       "AvgNumEdits         -1.3575      0.043    -31.504      0.000      -1.442      -1.273\n",
       "Lurking           9.647e-05   3.07e-05      3.137      0.002    3.62e-05       0.000\n",
       "====================================================================================\n",
       "\"\"\""
      ]
     },
     "metadata": {},
     "output_type": "display_data"
    },
    {
     "data": {
      "text/html": [
       "<div>\n",
       "<style scoped>\n",
       "    .dataframe tbody tr th:only-of-type {\n",
       "        vertical-align: middle;\n",
       "    }\n",
       "\n",
       "    .dataframe tbody tr th {\n",
       "        vertical-align: top;\n",
       "    }\n",
       "\n",
       "    .dataframe thead th {\n",
       "        text-align: right;\n",
       "    }\n",
       "</style>\n",
       "<table border=\"1\" class=\"dataframe\">\n",
       "  <thead>\n",
       "    <tr style=\"text-align: right;\">\n",
       "      <th></th>\n",
       "      <th>5%</th>\n",
       "      <th>95%</th>\n",
       "      <th>Odds Ratio</th>\n",
       "    </tr>\n",
       "  </thead>\n",
       "  <tbody>\n",
       "    <tr>\n",
       "      <th>Intercept</th>\n",
       "      <td>0.519913</td>\n",
       "      <td>0.611731</td>\n",
       "      <td>0.563957</td>\n",
       "    </tr>\n",
       "    <tr>\n",
       "      <th>AvgEditorRep</th>\n",
       "      <td>0.999988</td>\n",
       "      <td>1.000012</td>\n",
       "      <td>1.000000</td>\n",
       "    </tr>\n",
       "    <tr>\n",
       "      <th>AvgEditorAge</th>\n",
       "      <td>0.999923</td>\n",
       "      <td>0.999986</td>\n",
       "      <td>0.999955</td>\n",
       "    </tr>\n",
       "    <tr>\n",
       "      <th>AvgUpVotes</th>\n",
       "      <td>1.007916</td>\n",
       "      <td>1.028970</td>\n",
       "      <td>1.018388</td>\n",
       "    </tr>\n",
       "    <tr>\n",
       "      <th>AvgDownVotes</th>\n",
       "      <td>0.945776</td>\n",
       "      <td>1.044677</td>\n",
       "      <td>0.993997</td>\n",
       "    </tr>\n",
       "    <tr>\n",
       "      <th>AvgOtherPositive</th>\n",
       "      <td>0.956309</td>\n",
       "      <td>1.186456</td>\n",
       "      <td>1.065185</td>\n",
       "    </tr>\n",
       "    <tr>\n",
       "      <th>AvgOtherNegative</th>\n",
       "      <td>0.336491</td>\n",
       "      <td>1.088309</td>\n",
       "      <td>0.605150</td>\n",
       "    </tr>\n",
       "    <tr>\n",
       "      <th>AvgNumEdits</th>\n",
       "      <td>0.236478</td>\n",
       "      <td>0.279990</td>\n",
       "      <td>0.257316</td>\n",
       "    </tr>\n",
       "    <tr>\n",
       "      <th>Lurking</th>\n",
       "      <td>1.000036</td>\n",
       "      <td>1.000157</td>\n",
       "      <td>1.000096</td>\n",
       "    </tr>\n",
       "  </tbody>\n",
       "</table>\n",
       "</div>"
      ],
      "text/plain": [
       "                        5%       95%  Odds Ratio\n",
       "Intercept         0.519913  0.611731    0.563957\n",
       "AvgEditorRep      0.999988  1.000012    1.000000\n",
       "AvgEditorAge      0.999923  0.999986    0.999955\n",
       "AvgUpVotes        1.007916  1.028970    1.018388\n",
       "AvgDownVotes      0.945776  1.044677    0.993997\n",
       "AvgOtherPositive  0.956309  1.186456    1.065185\n",
       "AvgOtherNegative  0.336491  1.088309    0.605150\n",
       "AvgNumEdits       0.236478  0.279990    0.257316\n",
       "Lurking           1.000036  1.000157    1.000096"
      ]
     },
     "metadata": {},
     "output_type": "display_data"
    },
    {
     "name": "stdout",
     "output_type": "stream",
     "text": [
      "Ran on 32,219 newcomers.\n"
     ]
    }
   ],
   "source": [
    "data = nc[nc['TotalSuggestedEdits'] > 0]\n",
    "\n",
    "model = smf.logit(\n",
    "    formula='Retained ~ AvgEditorRep + AvgEditorAge ' \\\n",
    "        '+ AvgUpVotes + AvgDownVotes + AvgOtherPositive + AvgOtherNegative ' \\\n",
    "        '+ AvgNumEdits + Lurking',\n",
    "    data=data\n",
    ").fit(disp=False)\n",
    "\n",
    "display(data['Retained'].astype(bool).value_counts() / len(data.index))\n",
    "display(model.summary())\n",
    "display(log_odds(model))\n",
    "print(f\"Ran on {len(data.index):,} newcomers.\")\n",
    "\n",
    "# Notes: AvgOtherNegative and AvgNumEdits seem abnormally impactful towards\n",
    "#   retention."
   ]
  }
 ],
 "metadata": {
  "interpreter": {
   "hash": "2be5faf79681da6f2a61fdfdd5405d65d042280f7fba6178067603e3a2925119"
  },
  "kernelspec": {
   "display_name": "Python 3.10.0 64-bit",
   "language": "python",
   "name": "python3"
  },
  "language_info": {
   "codemirror_mode": {
    "name": "ipython",
    "version": 3
   },
   "file_extension": ".py",
   "mimetype": "text/x-python",
   "name": "python",
   "nbconvert_exporter": "python",
   "pygments_lexer": "ipython3",
   "version": "3.10.0"
  },
  "orig_nbformat": 4
 },
 "nbformat": 4,
 "nbformat_minor": 2
}
